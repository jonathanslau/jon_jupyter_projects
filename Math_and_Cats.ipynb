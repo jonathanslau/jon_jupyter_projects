{
  "nbformat": 4,
  "nbformat_minor": 0,
  "metadata": {
    "colab": {
      "name": "Math and Cats 3",
      "provenance": [],
      "collapsed_sections": [],
      "include_colab_link": true
    },
    "kernelspec": {
      "name": "python3",
      "display_name": "Python 3"
    },
    "language_info": {
      "name": "python"
    },
    "widgets": {
      "application/vnd.jupyter.widget-state+json": {
        "da80810b91474685b541b45db3505085": {
          "model_module": "@jupyter-widgets/controls",
          "model_name": "ToggleButtonsModel",
          "model_module_version": "1.5.0",
          "state": {
            "_dom_classes": [],
            "_model_module": "@jupyter-widgets/controls",
            "_model_module_version": "1.5.0",
            "_model_name": "ToggleButtonsModel",
            "_options_labels": [
              "tabby",
              "not a tabby"
            ],
            "_view_count": null,
            "_view_module": "@jupyter-widgets/controls",
            "_view_module_version": "1.5.0",
            "_view_name": "ToggleButtonsView",
            "button_style": "",
            "description": "is tabby?",
            "description_tooltip": null,
            "disabled": false,
            "icons": [],
            "index": 0,
            "layout": "IPY_MODEL_a2f201f6b8014de089aae281ba164f8d",
            "style": "IPY_MODEL_40e8bba8ce514c2095fc41961550b398",
            "tooltips": []
          }
        },
        "a2f201f6b8014de089aae281ba164f8d": {
          "model_module": "@jupyter-widgets/base",
          "model_name": "LayoutModel",
          "model_module_version": "1.2.0",
          "state": {
            "_model_module": "@jupyter-widgets/base",
            "_model_module_version": "1.2.0",
            "_model_name": "LayoutModel",
            "_view_count": null,
            "_view_module": "@jupyter-widgets/base",
            "_view_module_version": "1.2.0",
            "_view_name": "LayoutView",
            "align_content": null,
            "align_items": null,
            "align_self": null,
            "border": null,
            "bottom": null,
            "display": null,
            "flex": null,
            "flex_flow": null,
            "grid_area": null,
            "grid_auto_columns": null,
            "grid_auto_flow": null,
            "grid_auto_rows": null,
            "grid_column": null,
            "grid_gap": null,
            "grid_row": null,
            "grid_template_areas": null,
            "grid_template_columns": null,
            "grid_template_rows": null,
            "height": null,
            "justify_content": null,
            "justify_items": null,
            "left": null,
            "margin": null,
            "max_height": null,
            "max_width": null,
            "min_height": null,
            "min_width": null,
            "object_fit": null,
            "object_position": null,
            "order": null,
            "overflow": null,
            "overflow_x": null,
            "overflow_y": null,
            "padding": null,
            "right": null,
            "top": null,
            "visibility": null,
            "width": null
          }
        },
        "40e8bba8ce514c2095fc41961550b398": {
          "model_module": "@jupyter-widgets/controls",
          "model_name": "ToggleButtonsStyleModel",
          "model_module_version": "1.5.0",
          "state": {
            "_model_module": "@jupyter-widgets/controls",
            "_model_module_version": "1.5.0",
            "_model_name": "ToggleButtonsStyleModel",
            "_view_count": null,
            "_view_module": "@jupyter-widgets/base",
            "_view_module_version": "1.2.0",
            "_view_name": "StyleView",
            "button_width": "",
            "description_width": "",
            "font_weight": ""
          }
        },
        "94f563e166244cb983a6234887b632a8": {
          "model_module": "@jupyter-widgets/controls",
          "model_name": "ToggleButtonsModel",
          "model_module_version": "1.5.0",
          "state": {
            "_dom_classes": [],
            "_model_module": "@jupyter-widgets/controls",
            "_model_module_version": "1.5.0",
            "_model_name": "ToggleButtonsModel",
            "_options_labels": [
              "grey",
              "black",
              "darkblue",
              "orange",
              "white"
            ],
            "_view_count": null,
            "_view_module": "@jupyter-widgets/controls",
            "_view_module_version": "1.5.0",
            "_view_name": "ToggleButtonsView",
            "button_style": "",
            "description": "coat colour?",
            "description_tooltip": null,
            "disabled": false,
            "icons": [],
            "index": 0,
            "layout": "IPY_MODEL_b85b8bc8f4564fd2b440a64c05fad0fb",
            "style": "IPY_MODEL_31f15527b2d54a2f990500d99e200cc2",
            "tooltips": []
          }
        },
        "b85b8bc8f4564fd2b440a64c05fad0fb": {
          "model_module": "@jupyter-widgets/base",
          "model_name": "LayoutModel",
          "model_module_version": "1.2.0",
          "state": {
            "_model_module": "@jupyter-widgets/base",
            "_model_module_version": "1.2.0",
            "_model_name": "LayoutModel",
            "_view_count": null,
            "_view_module": "@jupyter-widgets/base",
            "_view_module_version": "1.2.0",
            "_view_name": "LayoutView",
            "align_content": null,
            "align_items": null,
            "align_self": null,
            "border": null,
            "bottom": null,
            "display": null,
            "flex": null,
            "flex_flow": null,
            "grid_area": null,
            "grid_auto_columns": null,
            "grid_auto_flow": null,
            "grid_auto_rows": null,
            "grid_column": null,
            "grid_gap": null,
            "grid_row": null,
            "grid_template_areas": null,
            "grid_template_columns": null,
            "grid_template_rows": null,
            "height": null,
            "justify_content": null,
            "justify_items": null,
            "left": null,
            "margin": null,
            "max_height": null,
            "max_width": null,
            "min_height": null,
            "min_width": null,
            "object_fit": null,
            "object_position": null,
            "order": null,
            "overflow": null,
            "overflow_x": null,
            "overflow_y": null,
            "padding": null,
            "right": null,
            "top": null,
            "visibility": null,
            "width": null
          }
        },
        "31f15527b2d54a2f990500d99e200cc2": {
          "model_module": "@jupyter-widgets/controls",
          "model_name": "ToggleButtonsStyleModel",
          "model_module_version": "1.5.0",
          "state": {
            "_model_module": "@jupyter-widgets/controls",
            "_model_module_version": "1.5.0",
            "_model_name": "ToggleButtonsStyleModel",
            "_view_count": null,
            "_view_module": "@jupyter-widgets/base",
            "_view_module_version": "1.2.0",
            "_view_name": "StyleView",
            "button_width": "",
            "description_width": "",
            "font_weight": ""
          }
        },
        "d6cc0980704d44128906459c2c4b0b9e": {
          "model_module": "@jupyter-widgets/controls",
          "model_name": "ToggleButtonsModel",
          "model_module_version": "1.5.0",
          "state": {
            "_dom_classes": [],
            "_model_module": "@jupyter-widgets/controls",
            "_model_module_version": "1.5.0",
            "_model_name": "ToggleButtonsModel",
            "_options_labels": [
              "lime",
              "blue",
              "yellow",
              "orange",
              "brown"
            ],
            "_view_count": null,
            "_view_module": "@jupyter-widgets/controls",
            "_view_module_version": "1.5.0",
            "_view_name": "ToggleButtonsView",
            "button_style": "",
            "description": "eye colour?",
            "description_tooltip": null,
            "disabled": false,
            "icons": [],
            "index": 0,
            "layout": "IPY_MODEL_a04e3b32553e479895970f40ba8795ed",
            "style": "IPY_MODEL_0d65b15c30f6408fa619e159e0ae0b6b",
            "tooltips": []
          }
        },
        "a04e3b32553e479895970f40ba8795ed": {
          "model_module": "@jupyter-widgets/base",
          "model_name": "LayoutModel",
          "model_module_version": "1.2.0",
          "state": {
            "_model_module": "@jupyter-widgets/base",
            "_model_module_version": "1.2.0",
            "_model_name": "LayoutModel",
            "_view_count": null,
            "_view_module": "@jupyter-widgets/base",
            "_view_module_version": "1.2.0",
            "_view_name": "LayoutView",
            "align_content": null,
            "align_items": null,
            "align_self": null,
            "border": null,
            "bottom": null,
            "display": null,
            "flex": null,
            "flex_flow": null,
            "grid_area": null,
            "grid_auto_columns": null,
            "grid_auto_flow": null,
            "grid_auto_rows": null,
            "grid_column": null,
            "grid_gap": null,
            "grid_row": null,
            "grid_template_areas": null,
            "grid_template_columns": null,
            "grid_template_rows": null,
            "height": null,
            "justify_content": null,
            "justify_items": null,
            "left": null,
            "margin": null,
            "max_height": null,
            "max_width": null,
            "min_height": null,
            "min_width": null,
            "object_fit": null,
            "object_position": null,
            "order": null,
            "overflow": null,
            "overflow_x": null,
            "overflow_y": null,
            "padding": null,
            "right": null,
            "top": null,
            "visibility": null,
            "width": null
          }
        },
        "0d65b15c30f6408fa619e159e0ae0b6b": {
          "model_module": "@jupyter-widgets/controls",
          "model_name": "ToggleButtonsStyleModel",
          "model_module_version": "1.5.0",
          "state": {
            "_model_module": "@jupyter-widgets/controls",
            "_model_module_version": "1.5.0",
            "_model_name": "ToggleButtonsStyleModel",
            "_view_count": null,
            "_view_module": "@jupyter-widgets/base",
            "_view_module_version": "1.2.0",
            "_view_name": "StyleView",
            "button_width": "",
            "description_width": "",
            "font_weight": ""
          }
        },
        "5104521293754977961e44344ed53ee8": {
          "model_module": "@jupyter-widgets/controls",
          "model_name": "FloatSliderModel",
          "model_module_version": "1.5.0",
          "state": {
            "_dom_classes": [],
            "_model_module": "@jupyter-widgets/controls",
            "_model_module_version": "1.5.0",
            "_model_name": "FloatSliderModel",
            "_view_count": null,
            "_view_module": "@jupyter-widgets/controls",
            "_view_module_version": "1.5.0",
            "_view_name": "FloatSliderView",
            "continuous_update": true,
            "description": "head circumference:",
            "description_tooltip": null,
            "disabled": false,
            "layout": "IPY_MODEL_f244d6e14a6e4df399fdd80b7c24a890",
            "max": 100,
            "min": 0,
            "orientation": "horizontal",
            "readout": true,
            "readout_format": ".1f",
            "step": 0.1,
            "style": "IPY_MODEL_da0c1b3fcd46411ebd448fb2b244ce07",
            "value": 32
          }
        },
        "f244d6e14a6e4df399fdd80b7c24a890": {
          "model_module": "@jupyter-widgets/base",
          "model_name": "LayoutModel",
          "model_module_version": "1.2.0",
          "state": {
            "_model_module": "@jupyter-widgets/base",
            "_model_module_version": "1.2.0",
            "_model_name": "LayoutModel",
            "_view_count": null,
            "_view_module": "@jupyter-widgets/base",
            "_view_module_version": "1.2.0",
            "_view_name": "LayoutView",
            "align_content": null,
            "align_items": null,
            "align_self": null,
            "border": null,
            "bottom": null,
            "display": null,
            "flex": null,
            "flex_flow": null,
            "grid_area": null,
            "grid_auto_columns": null,
            "grid_auto_flow": null,
            "grid_auto_rows": null,
            "grid_column": null,
            "grid_gap": null,
            "grid_row": null,
            "grid_template_areas": null,
            "grid_template_columns": null,
            "grid_template_rows": null,
            "height": "auto",
            "justify_content": null,
            "justify_items": null,
            "left": null,
            "margin": null,
            "max_height": null,
            "max_width": null,
            "min_height": null,
            "min_width": null,
            "object_fit": null,
            "object_position": null,
            "order": null,
            "overflow": null,
            "overflow_x": null,
            "overflow_y": null,
            "padding": null,
            "right": null,
            "top": null,
            "visibility": null,
            "width": "400px"
          }
        },
        "da0c1b3fcd46411ebd448fb2b244ce07": {
          "model_module": "@jupyter-widgets/controls",
          "model_name": "SliderStyleModel",
          "model_module_version": "1.5.0",
          "state": {
            "_model_module": "@jupyter-widgets/controls",
            "_model_module_version": "1.5.0",
            "_model_name": "SliderStyleModel",
            "_view_count": null,
            "_view_module": "@jupyter-widgets/base",
            "_view_module_version": "1.2.0",
            "_view_name": "StyleView",
            "description_width": "initial",
            "handle_color": null
          }
        },
        "44b002dfc5d14cad9113885dcecc027f": {
          "model_module": "@jupyter-widgets/controls",
          "model_name": "FloatSliderModel",
          "model_module_version": "1.5.0",
          "state": {
            "_dom_classes": [],
            "_model_module": "@jupyter-widgets/controls",
            "_model_module_version": "1.5.0",
            "_model_name": "FloatSliderModel",
            "_view_count": null,
            "_view_module": "@jupyter-widgets/controls",
            "_view_module_version": "1.5.0",
            "_view_name": "FloatSliderView",
            "continuous_update": true,
            "description": "torso length:",
            "description_tooltip": null,
            "disabled": false,
            "layout": "IPY_MODEL_f244d6e14a6e4df399fdd80b7c24a890",
            "max": 100,
            "min": 0,
            "orientation": "horizontal",
            "readout": true,
            "readout_format": ".1f",
            "step": 0.1,
            "style": "IPY_MODEL_237f08ee41ca43b8b4b9e1cadb309b56",
            "value": 38
          }
        },
        "237f08ee41ca43b8b4b9e1cadb309b56": {
          "model_module": "@jupyter-widgets/controls",
          "model_name": "SliderStyleModel",
          "model_module_version": "1.5.0",
          "state": {
            "_model_module": "@jupyter-widgets/controls",
            "_model_module_version": "1.5.0",
            "_model_name": "SliderStyleModel",
            "_view_count": null,
            "_view_module": "@jupyter-widgets/base",
            "_view_module_version": "1.2.0",
            "_view_name": "StyleView",
            "description_width": "initial",
            "handle_color": null
          }
        },
        "72cda0251972467e87a487c61a6394b4": {
          "model_module": "@jupyter-widgets/controls",
          "model_name": "FloatSliderModel",
          "model_module_version": "1.5.0",
          "state": {
            "_dom_classes": [],
            "_model_module": "@jupyter-widgets/controls",
            "_model_module_version": "1.5.0",
            "_model_name": "FloatSliderModel",
            "_view_count": null,
            "_view_module": "@jupyter-widgets/controls",
            "_view_module_version": "1.5.0",
            "_view_name": "FloatSliderView",
            "continuous_update": true,
            "description": "torso circumference:",
            "description_tooltip": null,
            "disabled": false,
            "layout": "IPY_MODEL_f244d6e14a6e4df399fdd80b7c24a890",
            "max": 100,
            "min": 0,
            "orientation": "horizontal",
            "readout": true,
            "readout_format": ".1f",
            "step": 0.1,
            "style": "IPY_MODEL_fc888f2db408456b944e31ed849e171d",
            "value": 46
          }
        },
        "fc888f2db408456b944e31ed849e171d": {
          "model_module": "@jupyter-widgets/controls",
          "model_name": "SliderStyleModel",
          "model_module_version": "1.5.0",
          "state": {
            "_model_module": "@jupyter-widgets/controls",
            "_model_module_version": "1.5.0",
            "_model_name": "SliderStyleModel",
            "_view_count": null,
            "_view_module": "@jupyter-widgets/base",
            "_view_module_version": "1.2.0",
            "_view_name": "StyleView",
            "description_width": "initial",
            "handle_color": null
          }
        },
        "764f89328b0d4005afcdd8f586af5eca": {
          "model_module": "@jupyter-widgets/controls",
          "model_name": "FloatSliderModel",
          "model_module_version": "1.5.0",
          "state": {
            "_dom_classes": [],
            "_model_module": "@jupyter-widgets/controls",
            "_model_module_version": "1.5.0",
            "_model_name": "FloatSliderModel",
            "_view_count": null,
            "_view_module": "@jupyter-widgets/controls",
            "_view_module_version": "1.5.0",
            "_view_name": "FloatSliderView",
            "continuous_update": true,
            "description": "limb length:",
            "description_tooltip": null,
            "disabled": false,
            "layout": "IPY_MODEL_f244d6e14a6e4df399fdd80b7c24a890",
            "max": 100,
            "min": 0,
            "orientation": "horizontal",
            "readout": true,
            "readout_format": ".1f",
            "step": 0.1,
            "style": "IPY_MODEL_02ae1cf68e254e139ecbaa2a476652b8",
            "value": 12
          }
        },
        "02ae1cf68e254e139ecbaa2a476652b8": {
          "model_module": "@jupyter-widgets/controls",
          "model_name": "SliderStyleModel",
          "model_module_version": "1.5.0",
          "state": {
            "_model_module": "@jupyter-widgets/controls",
            "_model_module_version": "1.5.0",
            "_model_name": "SliderStyleModel",
            "_view_count": null,
            "_view_module": "@jupyter-widgets/base",
            "_view_module_version": "1.2.0",
            "_view_name": "StyleView",
            "description_width": "initial",
            "handle_color": null
          }
        },
        "b06e6a0fed3542e7b026cfa2aac9c400": {
          "model_module": "@jupyter-widgets/controls",
          "model_name": "FloatSliderModel",
          "model_module_version": "1.5.0",
          "state": {
            "_dom_classes": [],
            "_model_module": "@jupyter-widgets/controls",
            "_model_module_version": "1.5.0",
            "_model_name": "FloatSliderModel",
            "_view_count": null,
            "_view_module": "@jupyter-widgets/controls",
            "_view_module_version": "1.5.0",
            "_view_name": "FloatSliderView",
            "continuous_update": true,
            "description": "limb circumference:",
            "description_tooltip": null,
            "disabled": false,
            "layout": "IPY_MODEL_f244d6e14a6e4df399fdd80b7c24a890",
            "max": 100,
            "min": 0,
            "orientation": "horizontal",
            "readout": true,
            "readout_format": ".1f",
            "step": 0.1,
            "style": "IPY_MODEL_a70c684fbb2b4e7b80d95708b83d0a79",
            "value": 9
          }
        },
        "a70c684fbb2b4e7b80d95708b83d0a79": {
          "model_module": "@jupyter-widgets/controls",
          "model_name": "SliderStyleModel",
          "model_module_version": "1.5.0",
          "state": {
            "_model_module": "@jupyter-widgets/controls",
            "_model_module_version": "1.5.0",
            "_model_name": "SliderStyleModel",
            "_view_count": null,
            "_view_module": "@jupyter-widgets/base",
            "_view_module_version": "1.2.0",
            "_view_name": "StyleView",
            "description_width": "initial",
            "handle_color": null
          }
        },
        "5432445386da4604a52d6135405e935c": {
          "model_module": "@jupyter-widgets/controls",
          "model_name": "FloatSliderModel",
          "model_module_version": "1.5.0",
          "state": {
            "_dom_classes": [],
            "_model_module": "@jupyter-widgets/controls",
            "_model_module_version": "1.5.0",
            "_model_name": "FloatSliderModel",
            "_view_count": null,
            "_view_module": "@jupyter-widgets/controls",
            "_view_module_version": "1.5.0",
            "_view_name": "FloatSliderView",
            "continuous_update": true,
            "description": "tail length:",
            "description_tooltip": null,
            "disabled": false,
            "layout": "IPY_MODEL_f244d6e14a6e4df399fdd80b7c24a890",
            "max": 100,
            "min": 0,
            "orientation": "horizontal",
            "readout": true,
            "readout_format": ".1f",
            "step": 0.1,
            "style": "IPY_MODEL_602b73e788ae413c997d075c0ff21e41",
            "value": 26
          }
        },
        "602b73e788ae413c997d075c0ff21e41": {
          "model_module": "@jupyter-widgets/controls",
          "model_name": "SliderStyleModel",
          "model_module_version": "1.5.0",
          "state": {
            "_model_module": "@jupyter-widgets/controls",
            "_model_module_version": "1.5.0",
            "_model_name": "SliderStyleModel",
            "_view_count": null,
            "_view_module": "@jupyter-widgets/base",
            "_view_module_version": "1.2.0",
            "_view_name": "StyleView",
            "description_width": "initial",
            "handle_color": null
          }
        },
        "e16b07c0f53841268a5bb597462d8b9b": {
          "model_module": "@jupyter-widgets/controls",
          "model_name": "FloatSliderModel",
          "model_module_version": "1.5.0",
          "state": {
            "_dom_classes": [],
            "_model_module": "@jupyter-widgets/controls",
            "_model_module_version": "1.5.0",
            "_model_name": "FloatSliderModel",
            "_view_count": null,
            "_view_module": "@jupyter-widgets/controls",
            "_view_module_version": "1.5.0",
            "_view_name": "FloatSliderView",
            "continuous_update": true,
            "description": "tail circumference:",
            "description_tooltip": null,
            "disabled": false,
            "layout": "IPY_MODEL_f244d6e14a6e4df399fdd80b7c24a890",
            "max": 100,
            "min": 0,
            "orientation": "horizontal",
            "readout": true,
            "readout_format": ".1f",
            "step": 0.1,
            "style": "IPY_MODEL_0feb4d0c35514f33b8958a9b72ed57b2",
            "value": 6
          }
        },
        "0feb4d0c35514f33b8958a9b72ed57b2": {
          "model_module": "@jupyter-widgets/controls",
          "model_name": "SliderStyleModel",
          "model_module_version": "1.5.0",
          "state": {
            "_model_module": "@jupyter-widgets/controls",
            "_model_module_version": "1.5.0",
            "_model_name": "SliderStyleModel",
            "_view_count": null,
            "_view_module": "@jupyter-widgets/base",
            "_view_module_version": "1.2.0",
            "_view_name": "StyleView",
            "description_width": "initial",
            "handle_color": null
          }
        },
        "dd49e44fe3cd420eb94df13bdecb0a00": {
          "model_module": "@jupyter-widgets/controls",
          "model_name": "ButtonModel",
          "model_module_version": "1.5.0",
          "state": {
            "_dom_classes": [],
            "_model_module": "@jupyter-widgets/controls",
            "_model_module_version": "1.5.0",
            "_model_name": "ButtonModel",
            "_view_count": null,
            "_view_module": "@jupyter-widgets/controls",
            "_view_module_version": "1.5.0",
            "_view_name": "ButtonView",
            "button_style": "",
            "description": "Generate kitty",
            "disabled": false,
            "icon": "",
            "layout": "IPY_MODEL_88e3ca9613304cec9045139f19bb10c2",
            "style": "IPY_MODEL_e022d0fd2c07488b8dbe0eb878a4f067",
            "tooltip": ""
          }
        },
        "88e3ca9613304cec9045139f19bb10c2": {
          "model_module": "@jupyter-widgets/base",
          "model_name": "LayoutModel",
          "model_module_version": "1.2.0",
          "state": {
            "_model_module": "@jupyter-widgets/base",
            "_model_module_version": "1.2.0",
            "_model_name": "LayoutModel",
            "_view_count": null,
            "_view_module": "@jupyter-widgets/base",
            "_view_module_version": "1.2.0",
            "_view_name": "LayoutView",
            "align_content": null,
            "align_items": null,
            "align_self": null,
            "border": null,
            "bottom": null,
            "display": null,
            "flex": null,
            "flex_flow": null,
            "grid_area": null,
            "grid_auto_columns": null,
            "grid_auto_flow": null,
            "grid_auto_rows": null,
            "grid_column": null,
            "grid_gap": null,
            "grid_row": null,
            "grid_template_areas": null,
            "grid_template_columns": null,
            "grid_template_rows": null,
            "height": null,
            "justify_content": null,
            "justify_items": null,
            "left": null,
            "margin": null,
            "max_height": null,
            "max_width": null,
            "min_height": null,
            "min_width": null,
            "object_fit": null,
            "object_position": null,
            "order": null,
            "overflow": null,
            "overflow_x": null,
            "overflow_y": null,
            "padding": null,
            "right": null,
            "top": null,
            "visibility": null,
            "width": null
          }
        },
        "e022d0fd2c07488b8dbe0eb878a4f067": {
          "model_module": "@jupyter-widgets/controls",
          "model_name": "ButtonStyleModel",
          "model_module_version": "1.5.0",
          "state": {
            "_model_module": "@jupyter-widgets/controls",
            "_model_module_version": "1.5.0",
            "_model_name": "ButtonStyleModel",
            "_view_count": null,
            "_view_module": "@jupyter-widgets/base",
            "_view_module_version": "1.2.0",
            "_view_name": "StyleView",
            "button_color": null,
            "font_weight": ""
          }
        }
      }
    }
  },
  "cells": [
    {
      "cell_type": "markdown",
      "metadata": {
        "id": "view-in-github",
        "colab_type": "text"
      },
      "source": [
        "<a href=\"https://colab.research.google.com/github/jonathanslau/math_and_cats/blob/main/Math_and_Cats_2.ipynb\" target=\"_parent\"><img src=\"https://colab.research.google.com/assets/colab-badge.svg\" alt=\"Open In Colab\"/></a>"
      ]
    },
    {
      "cell_type": "markdown",
      "source": [
        "Math and Cats 2\n"
      ],
      "metadata": {
        "id": "6lgQ27zyq8Fd"
      }
    },
    {
      "cell_type": "code",
      "source": [
        "# load libraries\n",
        "import numpy as np\n",
        "import matplotlib.pyplot as plt\n",
        "from mpl_toolkits.mplot3d import Axes3D\n",
        "from mpl_toolkits.mplot3d.art3d import Poly3DCollection\n",
        "import ipywidgets as widgets\n",
        "from IPython.display import clear_output\n",
        "\n",
        "# set up plot object\n",
        "fig = plt.figure(figsize=(12,12))\n",
        "ax = fig.add_subplot(111, projection='3d')\n",
        "# units of measure used here will be 1:1 with measurements in cm\n",
        "ax.set_xlim(-40, 40)\n",
        "ax.set_ylim(-40, 40)\n",
        "ax.set_zlim(-40, 40)\n",
        "\n",
        "ax.set_facecolor('lightsteelblue')\n",
        "\n",
        "# function for generating cylinder coordinates\n",
        "def generate_cylinder(center_x, center_y, offset_z, rotate_x, radius, height_z, colour, is_tabby, alpha):\n",
        "    # generate z array for height/length of cylinder\n",
        "    z = np.linspace(-int(height_z)/2, int(height_z)/2, int(height_z))\n",
        "    # generate array for circumference of cylinder\n",
        "    theta = np.linspace(0, 2*np.pi, int(height_z))\n",
        "    theta_grid, Zc=np.meshgrid(theta, z)\n",
        "    # generate coordinates for surface of cylinder\n",
        "    Xc = radius*np.cos(theta_grid) + center_x\n",
        "    Yc = radius*np.sin(theta_grid) + center_y\n",
        "    # if rotation is required, then calculate rotation\n",
        "    if rotate_x != 0:\n",
        "      Xc, Yc, Zc = rotate_cylinder_x(Xc, Yc, Zc, rotate_x)\n",
        "    # offset z\n",
        "    Zc = Zc + offset_z\n",
        "    # render cylinder\n",
        "    ax.plot_surface(Xc, Yc, Zc, alpha=alpha, color=colour)\n",
        "    # if a tabby coat is desired, build tabby pattern as black rings\n",
        "    if is_tabby == True:\n",
        "      for i, v in enumerate(Zc[:-3]):\n",
        "        if not i % 5:\n",
        "          ax.plot_surface(Xc[i:i+3:], Yc[i:i+3:], Zc[i:i+3:], alpha=0.5, color='black')\n",
        "    return\n",
        "\n",
        "# function for rotating cylinder on x axis\n",
        "def rotate_cylinder_x(Xc, Yc, Zc, degrees):\n",
        "    # convert degrees to radians\n",
        "    theta = np.radians(degrees)\n",
        "    # calculate new coordinates\n",
        "    Yc_rotated = Yc * np.cos(theta) - Zc * np.sin(theta)\n",
        "    Zc_rotated = Zc * np.cos(theta) + Yc * np.sin(theta)\n",
        "    return Xc, Yc_rotated, Zc_rotated\n",
        "\n",
        "# function for generating a sphere\n",
        "def generate_sphere(center_x, center_y, offset_z, radius, alpha, colour):\n",
        "    # generate coordinates for surface of sphere\n",
        "    u, v = np.mgrid[0:2*np.pi:20j, 0:np.pi:10j]\n",
        "    x_grid = radius * np.cos(u) * np.sin(v) + center_x\n",
        "    y_grid = radius * np.sin(u) * np.sin(v) + center_y   \n",
        "    z_grid = radius * np.cos(v) + offset_z\n",
        "    ax.plot_surface(x_grid, y_grid, z_grid, alpha=alpha, color=colour)\n",
        "    return\n",
        "\n",
        "# set up a cat object\n",
        "# set kitty count as global variable\n",
        "kitty_count = 0\n",
        "# l = length, c = circumference, r = radius\n",
        "class cat:\n",
        "  def __init__(self, is_tabby, coat_colour, eye_colour, head_c, torso_l, torso_c, limb_l, limb_c, tail_l, tail_c):\n",
        "    self.is_tabby = is_tabby\n",
        "    self.coat_colour = coat_colour\n",
        "    self.eye_colour = eye_colour\n",
        "    self.head_c = head_c\n",
        "    self.torso_l = torso_l\n",
        "    self.torso_c = torso_c\n",
        "    self.limb_l = limb_l\n",
        "    self.limb_c = limb_c\n",
        "    self.tail_l = tail_l\n",
        "    self.tail_c = tail_c\n",
        "    # convert circumference to radius\n",
        "    pi2 = (2*np.pi)\n",
        "    self.head_r = self.head_c/pi2\n",
        "    self.torso_r = self.torso_c/pi2\n",
        "    self.limb_r = self.limb_c/pi2\n",
        "    self.tail_r = self.tail_c/pi2\n",
        "  \n",
        "  def estimate_sa(self):\n",
        "    # calculate 2π once \n",
        "    pi2 = (2*np.pi)\n",
        "    # cat torso, area of a cylinder=2πrh+2πr2\n",
        "    # we are ignoring one of the circles as that is where the cat head goes\n",
        "    sa = pi2*self.torso_r*self.torso_l + 1*np.pi*self.torso_r**2\n",
        "    # limbs\n",
        "    # we are again ignoring one of the circles, where the limb joins the torso\n",
        "    sa = sa + 4 * (pi2 * self.limb_r * self.limb_l + 1 * np.pi * self.limb_r**2)\n",
        "    # tail\n",
        "    sa = sa + (pi2 * self.tail_r * self.tail_l + 1 * np.pi * self.tail_r**2)\n",
        "    # head, area of a sphere = 4πr2\n",
        "    sa = sa + (4 * np.pi * self.head_r**2)\n",
        "    # we will not consider the surface area of the ears as no fur grows there\n",
        "    return sa\n",
        "\n",
        "  def draw_kitty(self):\n",
        "    # keep count of the number of kitties to determine x position\n",
        "    global ax, kitty_count\n",
        "    center_x = -20 + kitty_count*30\n",
        "    # calculate 2π once \n",
        "    pi2 = (2*np.pi)\n",
        "    # start with cat torso\n",
        "    generate_cylinder(center_x, 0, 0, 90, self.torso_r, self.torso_l, self.coat_colour, self.is_tabby, 0.6)\n",
        "    \n",
        "    # cat tail\n",
        "    # calculate offsets and positions\n",
        "    offset_z = self.tail_l/2 + self.torso_r\n",
        "    center_y = self.torso_l/2\n",
        "    generate_cylinder(center_x, center_y, offset_z, 0, self.tail_r, self.tail_l, self.coat_colour, self.is_tabby, 0.6)\n",
        "\n",
        "    # cat limbs\n",
        "    # position of joints will be relative to size of torso\n",
        "    # calculate z offset\n",
        "    offset_z = - self.limb_l/2 - self.torso_r * np.cos(np.radians(45))\n",
        "    # set x/y positions of joints\n",
        "    cat_limb_pos = {\n",
        "      \"front_left\":[ 0.8*self.torso_r, -0.8*self.torso_l/2],\n",
        "      \"front_right\":[ -0.8*self.torso_r, -0.8*self.torso_l/2],\n",
        "      \"hind_left\":[ 0.8*self.torso_r, 0.8*self.torso_l/2],\n",
        "      \"hind_right\":[ -0.8*self.torso_r, 0.8*self.torso_l/2],\n",
        "    }\n",
        "    for limb in cat_limb_pos:\n",
        "      # transfer the list in each dictionary entry to a list variable\n",
        "      temp = cat_limb_pos[limb]\n",
        "      generate_cylinder(temp[0] + center_x, temp[1], offset_z, 0, self.limb_r, self.limb_l, self.coat_colour, self.is_tabby, 0.6)\n",
        "\n",
        "    # cat head\n",
        "    # calculate z offset\n",
        "    offset_z = self.torso_r/2\n",
        "    center_y = -self.torso_l/2 - self.head_r/2\n",
        "    generate_sphere(center_x, center_y, offset_z, self.head_r, 0.6, self.coat_colour)\n",
        "    \n",
        "    # piece de resistance, but code still needs cleanup\n",
        "    # ears\n",
        "    ear_y = -self.torso_l/2 - self.head_r/2 # position ears on the same y plane\n",
        "    ear_z = self.torso_r/2 + 0.8*self.head_r  # lowest z coordinate relative to head\n",
        "    ear_x = center_x\n",
        "    ears =  [\n",
        "      ((center_x + self.head_r,ear_y,ear_z),(center_x + self.head_r/2,ear_y,ear_z),(center_x + self.head_r,ear_y,ear_z+self.head_r)),\n",
        "      ((center_x - self.head_r,ear_y,ear_z),(center_x - self.head_r/2,ear_y,ear_z),(center_x - self.head_r,ear_y,ear_z+self.head_r)),\n",
        "      ]\n",
        "    ax.add_collection(Poly3DCollection(ears, alpha=1.0, color=self.coat_colour))\n",
        "    \n",
        "    # nose\n",
        "    nose_y = -self.torso_l/2 - self.head_r*3/2 - 0.2 # position relative to head but -1 y to make it visible\n",
        "    nose_z = 1 + self.torso_r/2\n",
        "    nose_x = self.head_r/6\n",
        "    nose = [((center_x - nose_x,nose_y,nose_z),(center_x,nose_y,nose_z),(center_x,nose_y,nose_z-1))]\n",
        "    ax.add_collection(Poly3DCollection(nose, alpha=1.0, color='darkred'))\n",
        "    \n",
        "    # eyes\n",
        "    eye_y = -self.torso_l/2 - self.head_r/2 - self.head_r * np.sin(np.radians(45)) # attempt to position eyes at 45 degree angle\n",
        "    eye_z = self.torso_r/2 + self.head_r * np.cos(np.radians(45))  # lowest z coordinate relative to head\n",
        "    offset_eye_x = self.head_r/3\n",
        "    eyes =  [\n",
        "      ((offset_eye_x + center_x,eye_y,eye_z),(offset_eye_x + 1 + center_x,eye_y,eye_z),(offset_eye_x + center_x,eye_y,eye_z-1)),\n",
        "      ((-offset_eye_x + center_x,eye_y,eye_z),(-offset_eye_x - 1 + center_x,eye_y,eye_z),(-offset_eye_x + center_x,eye_y,eye_z-1)),\n",
        "      ]\n",
        "    ax.add_collection(Poly3DCollection(eyes, alpha=1.0, color=self.eye_colour))\n",
        "    \n",
        "    # whiskers\n",
        "    # reuse coordinates from features above\n",
        "    ax.plot([center_x,center_x + self.head_r*2],[nose_y,nose_y],[nose_z,nose_z], alpha=1.0, color='w')\n",
        "    ax.plot([center_x,center_x - self.head_r*2],[nose_y,nose_y],[nose_z,nose_z], alpha=1.0, color='w')\n",
        "    ax.plot([center_x,center_x + self.head_r*2],[nose_y,nose_y],[nose_z,nose_z - self.head_r/2], alpha=1.0, color='w')\n",
        "    ax.plot([center_x,center_x - self.head_r*2],[nose_y,nose_y],[nose_z,nose_z - self.head_r/2], alpha=1.0, color='w')\n",
        "    ax.plot([center_x,center_x + self.head_r*2],[nose_y,nose_y],[nose_z,nose_z + self.head_r/2], alpha=1.0, color='w')\n",
        "    ax.plot([center_x,center_x - self.head_r*2],[nose_y,nose_y],[nose_z,nose_z + self.head_r/2], alpha=1.0, color='w')\n",
        "    \n",
        "    # iterate kitty count\n",
        "    kitty_count = kitty_count + 1\n",
        "    return\n",
        "\n",
        "# is_tabby, coat_colour, eye_colour, head circumference, torso length, torso circumference\n",
        "# limb length, limb circumference, tail length, tail circumference\n",
        "# pass Rocco measurements and render onto graph\n",
        "rocco = cat(True, 'grey', 'lime', 35, 40, 50, 15, 10, 28, 7)\n",
        "rocco.draw_kitty()\n",
        "\n",
        "# cat 2\n",
        "# average_cat = cat(True, 'orange', 'green', 32, 38, 46, 12, 9, 26, 6).draw_kitty()\n",
        "# cat 3\n",
        "small_cat = cat(False, 'darkblue', 'lime', 28, 33, 30, 9, 7, 22, 5)\n",
        "small_cat.draw_kitty()\n",
        "\n",
        "# given his measurements, how much surface area does he have?\n",
        "print(f\"The surface area of Rocco is approximately {str(round(rocco.estimate_sa()/10000,3))} m^2.\")\n",
        "print(f\"Our small hypothetical cat has a surface area of approximately {str(round(small_cat.estimate_sa()/10000, 3))} m^2.\")\n",
        "print(f\"Visualize your kitty next to Rocco! See the options below.\")\n",
        "\n",
        "plt.show()\n",
        "\n",
        "# create gui\n",
        "# defaults for sliders\n",
        "c2_hc_d, c2_torsl_d, c2_torsc_d, c2_ll_d, c2_lc_d, c2_taill_d, c2_tailc_d = 32, 38, 46, 12, 9, 26, 6\n",
        "\n",
        "tabby_d = None\n",
        "coat_colour_d = None\n",
        "eye_colour_d = None\n",
        "\n",
        "# function for generating sliders\n",
        "def kitty_interface():\n",
        "  # create layout option\n",
        "  layout = widgets.Layout(width='400px', height='auto')\n",
        "\n",
        "  # tabby option\n",
        "  global tabby\n",
        "  global tabby_d\n",
        "  if tabby_d is None:\n",
        "    tabby_d = 'tabby'\n",
        "  tabby = widgets.ToggleButtons(\n",
        "      options=['tabby', 'not a tabby'],\n",
        "      description='is tabby?',\n",
        "      value=tabby_d)\n",
        "\n",
        "  # colour selection\n",
        "  # coat_colour\n",
        "  global coat_colour\n",
        "  global coat_colour_d\n",
        "  if coat_colour_d is None:\n",
        "    coat_colour_d = 'grey'\n",
        "  coat_colour = widgets.ToggleButtons(\n",
        "      options=['grey','black','darkblue','orange','white'],\n",
        "      description='coat colour?',\n",
        "      value=coat_colour_d)\n",
        "  # eye\n",
        "  global eye_colour\n",
        "  global eye_colour_d\n",
        "  if eye_colour_d is None:\n",
        "    eye_colour_d = 'lime'\n",
        "  eye_colour = widgets.ToggleButtons(\n",
        "      options=['lime','blue','yellow','orange','brown'],\n",
        "      description='eye colour?',\n",
        "      value=eye_colour_d)\n",
        "\n",
        "  # sliders for dimensions\n",
        "  global c2_hc, c2_torsl, c2_torsc, c2_ll, c2_lc, c2_taill, c2_tailc\n",
        "  global c2_hc_d, c2_torsl_d, c2_torsc_d, c2_ll_d, c2_lc_d, c2_taill_d, c2_tailc_d\n",
        "  c2_hc = widgets.FloatSlider(value=c2_hc_d, description='head circumference:', style={'description_width': 'initial'}, layout=layout, step=0.1, readout_format='.1f')\n",
        "  c2_torsl = widgets.FloatSlider(value=c2_torsl_d, description='torso length:', style={'description_width': 'initial'}, layout=layout, step=0.1, readout_format='.1f')\n",
        "  c2_torsc = widgets.FloatSlider(value=c2_torsc_d, description='torso circumference:', style={'description_width': 'initial'}, layout=layout, step=0.1, readout_format='.1f')\n",
        "  c2_ll = widgets.FloatSlider(value=c2_ll_d, description='limb length:', style={'description_width': 'initial'}, layout=layout, step=0.1, readout_format='.1f')\n",
        "  c2_lc = widgets.FloatSlider(value=c2_lc_d, description='limb circumference:', style={'description_width': 'initial'}, layout=layout, step=0.1, readout_format='.1f')\n",
        "  c2_taill = widgets.FloatSlider(value=c2_taill_d, description='tail length:', style={'description_width': 'initial'}, layout=layout, step=0.1, readout_format='.1f')\n",
        "  c2_tailc = widgets.FloatSlider(value=c2_tailc_d, description='tail circumference:', style={'description_width': 'initial'}, layout=layout, step=0.1, readout_format='.1f')\n",
        "\n",
        "  # generate button\n",
        "  global generate_graph\n",
        "  generate_graph = widgets.Button(description='Generate kitty')\n",
        "\n",
        "  # display all widgets\n",
        "  display(tabby, coat_colour, eye_colour, c2_hc, c2_torsl, c2_torsc, c2_ll, c2_lc, c2_taill, c2_tailc, generate_graph)\n",
        "\n",
        "# button event trigger\n",
        "def on_button_clicked(b):\n",
        "  # declare globals and set figure\n",
        "  global ax, kitty_count, tabby\n",
        "  global c2_hc, c2_torsl, c2_torsc, c2_ll, c2_lc, c2_taill, c2_tailc\n",
        "  global tabby_d, coat_colour_d, eye_colour_d, c2_hc_d, c2_torsl_d, c2_torsc_d, c2_ll_d, c2_lc_d, c2_taill_d, c2_tailc_d\n",
        "  fig = plt.figure(figsize=(12,12))\n",
        "  ax = fig.add_subplot(111, projection='3d')\n",
        "  ax.set_xlim(-40, 40)\n",
        "  ax.set_ylim(-40, 40)\n",
        "  ax.set_zlim(-40, 40)\n",
        "  ax.set_facecolor('lightsteelblue')\n",
        "  # translate tabby into boolean\n",
        "  if tabby.value == 'tabby':\n",
        "    is_tabby = True\n",
        "  else:\n",
        "    is_tabby = False\n",
        "  # reset kitty count before running\n",
        "  kitty_count = 0\n",
        "  # create Rocco\n",
        "  rocco = cat(True, 'grey', 'lime', 35, 40, 50, 15, 10, 28, 7)\n",
        "  rocco.draw_kitty()\n",
        "  # create 2nd cat object from slider values\n",
        "  cat2 = cat(is_tabby, coat_colour.value, eye_colour.value, c2_hc.value, c2_torsl.value, c2_torsc.value, c2_ll.value, c2_lc.value, c2_taill.value, c2_tailc.value)\n",
        "  # save values before rebuilding gui\n",
        "  tabby_d, coat_colour_d, eye_colour_d, c2_hc_d, c2_torsl_d, c2_torsc_d, c2_ll_d, c2_lc_d, c2_taill_d, c2_tailc_d = tabby.value, coat_colour.value, eye_colour.value, c2_hc.value, c2_torsl.value, c2_torsc.value, c2_ll.value, c2_lc.value, c2_taill.value, c2_tailc.value\n",
        "  # clear output, rebuild gui, this is a hack.. need to figure out a better way\n",
        "  clear_output(wait=True)\n",
        "  kitty_interface()\n",
        "  # generate kitty\n",
        "  cat2.draw_kitty()\n",
        "  print(f\"The surface area of Rocco is approximately {str(round(rocco.estimate_sa()/10000,3))} m^2.\")\n",
        "  print(f\"Your kitty's surface area is {str(round(cat2.estimate_sa()/10000, 3))} m^2.\")\n",
        "  generate_graph.on_click(on_button_clicked)\n",
        "  plt.show()\n",
        "\n",
        "# build interface\n",
        "kitty_interface()\n",
        "generate_graph.on_click(on_button_clicked)\n"
      ],
      "metadata": {
        "colab": {
          "base_uri": "https://localhost:8080/",
          "height": 1000,
          "referenced_widgets": [
            "da80810b91474685b541b45db3505085",
            "a2f201f6b8014de089aae281ba164f8d",
            "40e8bba8ce514c2095fc41961550b398",
            "94f563e166244cb983a6234887b632a8",
            "b85b8bc8f4564fd2b440a64c05fad0fb",
            "31f15527b2d54a2f990500d99e200cc2",
            "d6cc0980704d44128906459c2c4b0b9e",
            "a04e3b32553e479895970f40ba8795ed",
            "0d65b15c30f6408fa619e159e0ae0b6b",
            "5104521293754977961e44344ed53ee8",
            "f244d6e14a6e4df399fdd80b7c24a890",
            "da0c1b3fcd46411ebd448fb2b244ce07",
            "44b002dfc5d14cad9113885dcecc027f",
            "237f08ee41ca43b8b4b9e1cadb309b56",
            "72cda0251972467e87a487c61a6394b4",
            "fc888f2db408456b944e31ed849e171d",
            "764f89328b0d4005afcdd8f586af5eca",
            "02ae1cf68e254e139ecbaa2a476652b8",
            "b06e6a0fed3542e7b026cfa2aac9c400",
            "a70c684fbb2b4e7b80d95708b83d0a79",
            "5432445386da4604a52d6135405e935c",
            "602b73e788ae413c997d075c0ff21e41",
            "e16b07c0f53841268a5bb597462d8b9b",
            "0feb4d0c35514f33b8958a9b72ed57b2",
            "dd49e44fe3cd420eb94df13bdecb0a00",
            "88e3ca9613304cec9045139f19bb10c2",
            "e022d0fd2c07488b8dbe0eb878a4f067"
          ]
        },
        "id": "ZXb_ElvFrBNh",
        "outputId": "64542c08-b90f-47c3-b3a6-6b8b66e553b7"
      },
      "execution_count": 20,
      "outputs": [
        {
          "output_type": "stream",
          "name": "stdout",
          "text": [
            "The surface area of Rocco is approximately 0.342 m^2.\n",
            "Our small hypothetical cat has a surface area of approximately 0.169 m^2.\n",
            "Visualize your kitty next to Rocco! See the options below.\n"
          ]
        },
        {
          "output_type": "display_data",
          "data": {
            "text/plain": [
              "<Figure size 864x864 with 1 Axes>"
            ],
            "image/png": "[encoded data removed]"
          },
          "metadata": {
            "needs_background": "light"
          }
        },
        {
          "output_type": "display_data",
          "data": {
            "text/plain": [
              "ToggleButtons(description='is tabby?', options=('tabby', 'not a tabby'), value='tabby')"
            ],
            "application/vnd.jupyter.widget-view+json": {
              "version_major": 2,
              "version_minor": 0,
              "model_id": "da80810b91474685b541b45db3505085"
            }
          },
          "metadata": {}
        },
        {
          "output_type": "display_data",
          "data": {
            "text/plain": [
              "ToggleButtons(description='coat colour?', options=('grey', 'black', 'darkblue', 'orange', 'white'), value='gre…"
            ],
            "application/vnd.jupyter.widget-view+json": {
              "version_major": 2,
              "version_minor": 0,
              "model_id": "94f563e166244cb983a6234887b632a8"
            }
          },
          "metadata": {}
        },
        {
          "output_type": "display_data",
          "data": {
            "text/plain": [
              "ToggleButtons(description='eye colour?', options=('lime', 'blue', 'yellow', 'orange', 'brown'), value='lime')"
            ],
            "application/vnd.jupyter.widget-view+json": {
              "version_major": 2,
              "version_minor": 0,
              "model_id": "d6cc0980704d44128906459c2c4b0b9e"
            }
          },
          "metadata": {}
        },
        {
          "output_type": "display_data",
          "data": {
            "text/plain": [
              "FloatSlider(value=32.0, description='head circumference:', layout=Layout(height='auto', width='400px'), readou…"
            ],
            "application/vnd.jupyter.widget-view+json": {
              "version_major": 2,
              "version_minor": 0,
              "model_id": "5104521293754977961e44344ed53ee8"
            }
          },
          "metadata": {}
        },
        {
          "output_type": "display_data",
          "data": {
            "text/plain": [
              "FloatSlider(value=38.0, description='torso length:', layout=Layout(height='auto', width='400px'), readout_form…"
            ],
            "application/vnd.jupyter.widget-view+json": {
              "version_major": 2,
              "version_minor": 0,
              "model_id": "44b002dfc5d14cad9113885dcecc027f"
            }
          },
          "metadata": {}
        },
        {
          "output_type": "display_data",
          "data": {
            "text/plain": [
              "FloatSlider(value=46.0, description='torso circumference:', layout=Layout(height='auto', width='400px'), reado…"
            ],
            "application/vnd.jupyter.widget-view+json": {
              "version_major": 2,
              "version_minor": 0,
              "model_id": "72cda0251972467e87a487c61a6394b4"
            }
          },
          "metadata": {}
        },
        {
          "output_type": "display_data",
          "data": {
            "text/plain": [
              "FloatSlider(value=12.0, description='limb length:', layout=Layout(height='auto', width='400px'), readout_forma…"
            ],
            "application/vnd.jupyter.widget-view+json": {
              "version_major": 2,
              "version_minor": 0,
              "model_id": "764f89328b0d4005afcdd8f586af5eca"
            }
          },
          "metadata": {}
        },
        {
          "output_type": "display_data",
          "data": {
            "text/plain": [
              "FloatSlider(value=9.0, description='limb circumference:', layout=Layout(height='auto', width='400px'), readout…"
            ],
            "application/vnd.jupyter.widget-view+json": {
              "version_major": 2,
              "version_minor": 0,
              "model_id": "b06e6a0fed3542e7b026cfa2aac9c400"
            }
          },
          "metadata": {}
        },
        {
          "output_type": "display_data",
          "data": {
            "text/plain": [
              "FloatSlider(value=26.0, description='tail length:', layout=Layout(height='auto', width='400px'), readout_forma…"
            ],
            "application/vnd.jupyter.widget-view+json": {
              "version_major": 2,
              "version_minor": 0,
              "model_id": "5432445386da4604a52d6135405e935c"
            }
          },
          "metadata": {}
        },
        {
          "output_type": "display_data",
          "data": {
            "text/plain": [
              "FloatSlider(value=6.0, description='tail circumference:', layout=Layout(height='auto', width='400px'), readout…"
            ],
            "application/vnd.jupyter.widget-view+json": {
              "version_major": 2,
              "version_minor": 0,
              "model_id": "e16b07c0f53841268a5bb597462d8b9b"
            }
          },
          "metadata": {}
        },
        {
          "output_type": "display_data",
          "data": {
            "text/plain": [
              "Button(description='Generate kitty', style=ButtonStyle())"
            ],
            "application/vnd.jupyter.widget-view+json": {
              "version_major": 2,
              "version_minor": 0,
              "model_id": "dd49e44fe3cd420eb94df13bdecb0a00"
            }
          },
          "metadata": {}
        }
      ]
    },
    {
      "cell_type": "code",
      "source": [
        "test = np.linspace(0,40,11)\n",
        "# for i, v in enumerate(test):\n",
        "#   if not i % 5:\n",
        "#     print(i, v)\n",
        "type(test)\n",
        "test[:-3]"
      ],
      "metadata": {
        "colab": {
          "base_uri": "https://localhost:8080/"
        },
        "id": "05e1kFc2x0t2",
        "outputId": "c2487987-5ddc-4cb0-d981-aed43e0764b5"
      },
      "execution_count": 19,
      "outputs": [
        {
          "output_type": "execute_result",
          "data": {
            "text/plain": [
              "array([ 0.,  4.,  8., 12., 16., 20., 24., 28.])"
            ]
          },
          "metadata": {},
          "execution_count": 19
        }
      ]
    }
  ]
}
